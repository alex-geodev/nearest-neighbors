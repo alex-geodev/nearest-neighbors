{
 "cells": [
  {
   "cell_type": "code",
   "execution_count": 18,
   "metadata": {},
   "outputs": [],
   "source": [
    "import random\n",
    "import numpy as np\n",
    "import seaborn as sns\n",
    "import matplotlib.pyplot as plt            "
   ]
  },
  {
   "cell_type": "code",
   "execution_count": 19,
   "metadata": {},
   "outputs": [],
   "source": [
    "def create_array(rows: int,cols: int, pos_value_density: float) -> np.array:\n",
    "    arr = np.random.rand(rows,cols)\n",
    "    return (arr>1-pos_value_density).astype(float)\n",
    "\n",
    "def is_within_distance(index: tuple,pos_val: list,distance: int) -> float:\n",
    "    #manhattan distance formula\n",
    "    dist = abs(index[0]-pos_val[0]) +abs(index[1]-pos_val[1])\n",
    "    return 1/dist if 0<dist<=distance else 0\n",
    "\n",
    "def detect_neighbors(init_array: np.array,pos_vals: list,distance: int):\n",
    "    #create modified array for testing/debugging comparisons against init_arr\n",
    "    mod_arr = init_array.copy()\n",
    "    for value in pos_vals:\n",
    "        arr_iterable = np.nditer(mod_arr, flags = [\"multi_index\"])\n",
    "\n",
    "        for item in arr_iterable:\n",
    "            if not item:\n",
    "                mod_arr[arr_iterable.multi_index]=is_within_distance(arr_iterable.multi_index,value,distance)\n",
    "\n",
    "            elif item !=1 and is_within_distance(arr_iterable.multi_index,value,distance):\n",
    "                #set overlapping cells to a unique value for plotting purposes\n",
    "                mod_arr[arr_iterable.multi_index]=2\n",
    "    return mod_arr\n",
    "\n"
   ]
  },
  {
   "cell_type": "code",
   "execution_count": 37,
   "metadata": {},
   "outputs": [],
   "source": [
    "def main(rows,cols,distance,pos_value_density=0.01):\n",
    "\n",
    "    init_arr = create_array(rows,cols,pos_value_density)\n",
    "\n",
    "    pos_vals = np.dstack(np.where(init_arr>0))[0]\n",
    "\n",
    "    neighbors=detect_neighbors(init_arr,pos_vals,distance)\n",
    "\n",
    "    count= np.count_nonzero(neighbors)\n",
    "    overlaps  = np.count_nonzero(neighbors[neighbors==2])\n",
    "\n",
    "    print(f'Total Neighbor Detections: {count}')\n",
    "    print(f'Total Overlap Detections: {overlaps}')\n",
    "\n",
    "    sns.heatmap(neighbors)\n",
    "    plt.show()\n",
    "\n",
    "    return neighbors"
   ]
  },
  {
   "cell_type": "code",
   "execution_count": 38,
   "metadata": {},
   "outputs": [
    {
     "name": "stdout",
     "output_type": "stream",
     "text": [
      "Total Neighbor Detections: 20\n",
      "Total Overlap Detections: 8\n"
     ]
    },
    {
     "data": {
      "image/png": "[encoded data removed]",
      "text/plain": [
       "<Figure size 640x480 with 2 Axes>"
      ]
     },
     "metadata": {},
     "output_type": "display_data"
    }
   ],
   "source": [
    "output = main(10,10,3,.01)"
   ]
  },
  {
   "cell_type": "code",
   "execution_count": 36,
   "metadata": {},
   "outputs": [
    {
     "data": {
      "text/plain": [
       "6"
      ]
     },
     "execution_count": 36,
     "metadata": {},
     "output_type": "execute_result"
    }
   ],
   "source": [
    "np.count_nonzero(ouput[ouput==2])"
   ]
  },
  {
   "cell_type": "code",
   "execution_count": 25,
   "metadata": {},
   "outputs": [
    {
     "ename": "NameError",
     "evalue": "name 'neighbors' is not defined",
     "output_type": "error",
     "traceback": [
      "\u001b[1;31m---------------------------------------------------------------------------\u001b[0m",
      "\u001b[1;31mNameError\u001b[0m                                 Traceback (most recent call last)",
      "Cell \u001b[1;32mIn[25], line 1\u001b[0m\n\u001b[1;32m----> 1\u001b[0m \u001b[43mneighbors\u001b[49m\n",
      "\u001b[1;31mNameError\u001b[0m: name 'neighbors' is not defined"
     ]
    }
   ],
   "source": [
    "neighbors"
   ]
  }
 ],
 "metadata": {
  "kernelspec": {
   "display_name": ".venv",
   "language": "python",
   "name": "python3"
  },
  "language_info": {
   "codemirror_mode": {
    "name": "ipython",
    "version": 3
   },
   "file_extension": ".py",
   "mimetype": "text/x-python",
   "name": "python",
   "nbconvert_exporter": "python",
   "pygments_lexer": "ipython3",
   "version": "3.12.0"
  }
 },
 "nbformat": 4,
 "nbformat_minor": 2
}
